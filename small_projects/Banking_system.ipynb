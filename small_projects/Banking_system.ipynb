{
  "cells": [
    {
      "cell_type": "markdown",
      "metadata": {
        "id": "KeYaG8QnehLQ"
      },
      "source": [
        "# Banking System\n",
        "## Class Definitions:\n",
        "Define two classes: Bank and Account.\n",
        "1. Bank Class:\n",
        "\n",
        "* The Bank class will represent the banking system as a whole.\n",
        "* It should have attributes to store information about all accounts, such as a dictionary where account numbers are keys and account objects are values.\n",
        "* It should have methods for:\n",
        "  * Creating a new account.\n",
        "  * Deleting an account.\n",
        "  * Displaying all accounts.\n",
        "2. Account Class:\n",
        "* The Account class will represent individual bank accounts.\n",
        "It should have attributes for:\n",
        "  * Account number.\n",
        "  * Account holder's name.\n",
        "  * Current balance.\n",
        "* It should have methods for:\n",
        "  * Depositing funds into the account.\n",
        "  * Withdrawing funds from the account.\n",
        "  * Displaying the account details.\n"
      ]
    },
    {
      "cell_type": "code",
      "execution_count": null,
      "metadata": {
        "id": "RYh5kZzu9E3U"
      },
      "outputs": [],
      "source": [
        "class Bank:\n",
        "    def __init__(self):\n",
        "        self.accounts = {}\n",
        "        self.next_account_num = 1\n",
        "\n",
        "    def create_account(self, name, initial_balance=0):\n",
        "        account_number = self.next_account_num\n",
        "        self.next_account_num += 1\n",
        "        if name not in self.accounts:\n",
        "          new_account = Account(account_number, name, initial_balance)\n",
        "          self.accounts[name] = new_account\n",
        "          print(\"Account added\")\n",
        "        else:\n",
        "          print(\"Error. The account already exists\")\n",
        "\n",
        "    def delete_account(self, account_number):\n",
        "        if account_number in self.accounts:\n",
        "          del(self.accounts[account_number])\n",
        "          print(\"Account deleted\")\n",
        "        else:\n",
        "          print(\"Account cannot be deleted. It does not exist.\")\n",
        "\n",
        "    def display_all_accounts(self):\n",
        "        for account in self.accounts.values():\n",
        "          print(f\"number: {account.account_number}, name: {account.name}, balance: {account.balance}\")\n",
        "\n",
        "    def deposit(self, account_number, amount):\n",
        "        if account_number in self.accounts:\n",
        "          self.accounts[account_number].deposit(amount)\n",
        "\n",
        "    def withdraw(self, account_number, amount):\n",
        "        if account_number in self.accounts and amount > 0:\n",
        "          self.accounts[account_number].withdraw(amount)\n",
        "\n",
        "    def display_account_details(self, name):\n",
        "        account = self.accounts[name]\n",
        "        if account in self.accounts.values():\n",
        "          print(f\"account number: {account.account_number}, balance: {account.balance}\")\n",
        "\n",
        "class Account:\n",
        "    def __init__(self, account_number, name, initial_balance):\n",
        "        self.account_number = account_number\n",
        "        self.name = name\n",
        "        self.balance = initial_balance\n",
        "\n",
        "    def deposit(self, amount):\n",
        "        self.balance += amount\n",
        "        #print(f\"Deposit added: {amount}\")\n",
        "\n",
        "    def withdraw(self, amount):\n",
        "        self.balance -= amount\n",
        "        #print(f\"Funds withdrawn: {amount}\")\n"
      ]
    },
    {
      "cell_type": "markdown",
      "metadata": {
        "id": "-1JdcYzP-nt7"
      },
      "source": [
        "Check your class with this code:"
      ]
    },
    {
      "cell_type": "code",
      "execution_count": null,
      "metadata": {
        "colab": {
          "base_uri": "https://localhost:8080/"
        },
        "id": "pjNrtaYwh7s6",
        "outputId": "6822daea-f7a5-43f0-b22f-4845dd217a0b"
      },
      "outputs": [
        {
          "name": "stdout",
          "output_type": "stream",
          "text": [
            "Account added\n",
            "Account added\n",
            "number: 1, name: John Doe, balance: 1000\n",
            "number: 2, name: Jane Smith, balance: 500\n",
            "account number: 1, balance: 1500\n",
            "Account Number: 12345\n",
            "Account Holder's Name: John Doe\n",
            "Current Balance: 1000\n",
            "Deposited 500. New Balance: 1500\n",
            "Withdrawn 200. New Balance: 1300\n"
          ]
        }
      ],
      "source": [
        "# Example usage of the Banking System\n",
        "bank = Bank()\n",
        "\n",
        "# Create accounts\n",
        "bank.create_account(\"John Doe\", initial_balance=1000)\n",
        "bank.create_account(\"Jane Smith\", initial_balance=500)\n",
        "\n",
        "# Display all accounts\n",
        "bank.display_all_accounts()\n",
        "\n",
        "# Deposit funds\n",
        "bank.deposit(\"John Doe\", 500)\n",
        "\n",
        "# Withdraw funds\n",
        "bank.withdraw(\"Jane Smith\", 200)\n",
        "\n",
        "# Display account details\n",
        "bank.display_account_details(\"John Doe\")\n",
        "\n",
        "# Create an account\n",
        "ac = Account(12345, \"John Doe\", initial_balance=1000)\n",
        "\n",
        "# Display account details\n",
        "print(\"Account Number:\", ac.account_number)\n",
        "print(\"Account Holder's Name:\", ac.name)\n",
        "print(\"Current Balance:\", ac.balance)\n",
        "\n",
        "# Deposit funds\n",
        "ac.deposit(500)\n",
        "print(\"Deposited 500. New Balance:\", ac.balance)\n",
        "\n",
        "# Withdraw funds\n",
        "ac.withdraw(200)\n",
        "print(\"Withdrawn 200. New Balance:\", ac.balance)"
      ]
    }
  ],
  "metadata": {
    "colab": {
      "provenance": []
    },
    "kernelspec": {
      "display_name": "Python 3",
      "name": "python3"
    },
    "language_info": {
      "name": "python"
    }
  },
  "nbformat": 4,
  "nbformat_minor": 0
}
