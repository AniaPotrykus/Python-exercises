{
  "cells": [
    {
      "cell_type": "markdown",
      "metadata": {
        "id": "MQbNJx04dtOu"
      },
      "source": [
        "# Task 1: Data types and variable assignment (10 minutes)\n",
        "Create variables that store the following values:\n",
        "\n",
        "An integer with the value 42.\n",
        "\n",
        "A floating-point number with the value 3.14.\n",
        "\n",
        "A string \"Hello, World!\".\n",
        "\n",
        "A list containing numbers from 1 to 5.\n",
        "\n",
        "A dictionary with key-value pairs: name as \"Alice\" and age as 30."
      ]
    },
    {
      "cell_type": "code",
      "execution_count": 1,
      "metadata": {
        "id": "toGjOe6nd2Ur"
      },
      "outputs": [],
      "source": [
        "num = 42\n",
        "pi = 3.14\n",
        "my_string = \"Hello, World!\"\n",
        "my_list = [1, 2, 3, 4, 5]\n",
        "my_dict = {'name:': 'alice', 'age': 20}"
      ]
    },
    {
      "cell_type": "markdown",
      "metadata": {
        "id": "xvA3oSpzd2uz"
      },
      "source": [
        "\n",
        "# Task 2: Basic mathematical operations (10 minutes)\n",
        "Calculate the sum, difference, product, and quotient of two numbers: 15 and 4.\n",
        "\n",
        "Calculate the value of the expression (3+7)*(12/4).\n"
      ]
    },
    {
      "cell_type": "code",
      "execution_count": 2,
      "metadata": {
        "colab": {
          "base_uri": "https://localhost:8080/"
        },
        "id": "ESUEy4ROeCwF",
        "outputId": "e9e4a199-cff2-4f78-c8ab-2d04ea9e78a0"
      },
      "outputs": [
        {
          "name": "stdout",
          "output_type": "stream",
          "text": [
            "19\n",
            "11\n",
            "3.75\n",
            "30.0\n"
          ]
        }
      ],
      "source": [
        "a = 15\n",
        "b = 4\n",
        "print(a + b)\n",
        "print(a - b)\n",
        "print(a / b)\n",
        "\n",
        "x = (3+7)*(12/4)\n",
        "print(x)"
      ]
    },
    {
      "cell_type": "markdown",
      "metadata": {
        "id": "FOUtJu3beDGA"
      },
      "source": [
        "# Task 3: Indexing and f-string (10 minutes)\n",
        "Create a list containing numbers from 10 to 20.\n",
        "Display the third and fifth values from this list using an f-string.\n"
      ]
    },
    {
      "cell_type": "code",
      "execution_count": 3,
      "metadata": {
        "colab": {
          "base_uri": "https://localhost:8080/"
        },
        "id": "1WcxeKOqeXuM",
        "outputId": "fa39eb3a-acf4-43c6-9f5b-75d7801c12c5"
      },
      "outputs": [
        {
          "name": "stdout",
          "output_type": "stream",
          "text": [
            "the third value is 12, the fifth value is 14\n"
          ]
        }
      ],
      "source": [
        "#my_list = [10, 11, 12, 13, 14, 15, 16, 17, 18, 19, 20]\n",
        "my_list = list(range(10,21))\n",
        "\n",
        "print(f\"the third value is {my_list[2]}, the fifth value is {my_list[4]}\")"
      ]
    },
    {
      "cell_type": "markdown",
      "metadata": {
        "id": "R0ZFHpSqeYIU"
      },
      "source": [
        "# Task 4: Logical expressions and operators (15 minutes)\n",
        "Create two variables: a = 5 and b = 10.\n",
        "Check if a is less than b and print the result.\n",
        "Increase the value of a by 3, multiply b by 2, and then divide b by 4, using shorthand operators (+=, *=, /=)."
      ]
    },
    {
      "cell_type": "code",
      "execution_count": 4,
      "metadata": {
        "colab": {
          "base_uri": "https://localhost:8080/"
        },
        "id": "JJFV0DnkeZ7g",
        "outputId": "e22c49f3-96ed-4a09-b6d2-b85a1436c789"
      },
      "outputs": [
        {
          "name": "stdout",
          "output_type": "stream",
          "text": [
            "True\n",
            "8\n",
            "5.0\n"
          ]
        }
      ],
      "source": [
        "a = 5\n",
        "b =10\n",
        "\n",
        "print(a < b)\n",
        "\n",
        "a += 3\n",
        "b *= 2\n",
        "b /= 4\n",
        "\n",
        "print(a)\n",
        "print(b)\n"
      ]
    },
    {
      "cell_type": "markdown",
      "metadata": {
        "id": "PRr0IYwFeaNR"
      },
      "source": [
        "# Task 5: Strings and conditional statements (15 minutes)\n",
        "Create a string \"Python is awesome\".\n",
        "Split this string into a list of words.\n",
        "Check if the word \"awesome\" is in this list; if it is, print \"Found!\", if not, print \"Not found!\"."
      ]
    },
    {
      "cell_type": "code",
      "execution_count": 5,
      "metadata": {
        "id": "DPsOpgNFeb5J"
      },
      "outputs": [],
      "source": [
        "def split_strings(string):\n",
        "  my_string = \"Python is awesome\"\n",
        "  my_list = my_string.split()\n",
        "  pattern = \"awesome\"\n",
        "  if pattern in my_list:\n",
        "    return \"Found\"\n",
        "  else:\n",
        "    return \"Not found\"\n"
      ]
    },
    {
      "cell_type": "code",
      "execution_count": 6,
      "metadata": {
        "colab": {
          "base_uri": "https://localhost:8080/"
        },
        "id": "fni6Xua0TBaz",
        "outputId": "c68a53e9-0f46-4e22-eb4e-897d4adda83f"
      },
      "outputs": [
        {
          "name": "stdout",
          "output_type": "stream",
          "text": [
            "Found\n"
          ]
        }
      ],
      "source": [
        "print(split_strings(my_string))"
      ]
    },
    {
      "cell_type": "markdown",
      "metadata": {
        "id": "jL88-tcYecJE"
      },
      "source": [
        "# Task 6: Dictionaries and while loop (15 minutes)\n",
        "Create a dictionary with the following key-value pairs: fruit as \"Apple\", quantity as 10.\n",
        "\n",
        "Add a new pair: price as 2.5.\n",
        "\n",
        "Display all keys and values of the dictionary.\n",
        "\n",
        "Use a while loop to decrease the quantity by 1 until it reaches 0. If the quantity is 5, use break to end the loop earlier."
      ]
    },
    {
      "cell_type": "code",
      "execution_count": 7,
      "metadata": {
        "colab": {
          "base_uri": "https://localhost:8080/"
        },
        "id": "Nq2bUCOTedor",
        "outputId": "3547e127-9506-4645-c52f-5d45ccfead65"
      },
      "outputs": [
        {
          "name": "stdout",
          "output_type": "stream",
          "text": [
            "fruit apple\n",
            "quantity 10\n",
            "price 2.5\n"
          ]
        }
      ],
      "source": [
        "\n",
        "my_dict = {\"fruit\": \"apple\", \"quantity\": 10}\n",
        "my_dict[\"price\"] = 2.5\n",
        "\n",
        "for key, value in my_dict.items():\n",
        "    print(key, value)\n",
        "\n",
        "def dictionaries(dict):\n",
        "\n",
        "  quantity = 10\n",
        "\n",
        "  while quantity > 0:\n",
        "    print(\"minus one\")\n",
        "    quantity -= 1\n",
        "\n",
        "    if quantity == 5:\n",
        "      break\n",
        "\n",
        "  return quantity"
      ]
    },
    {
      "cell_type": "code",
      "execution_count": 8,
      "metadata": {
        "colab": {
          "base_uri": "https://localhost:8080/"
        },
        "id": "KaSWAhTrWcqg",
        "outputId": "b200b5ab-5b62-4e68-9254-3232cda4a966"
      },
      "outputs": [
        {
          "name": "stdout",
          "output_type": "stream",
          "text": [
            "minus one\n",
            "minus one\n",
            "minus one\n",
            "minus one\n",
            "minus one\n",
            "5\n"
          ]
        }
      ],
      "source": [
        "print(dictionaries(my_dict))"
      ]
    },
    {
      "cell_type": "markdown",
      "metadata": {
        "id": "F6quPC-ded_J"
      },
      "source": [
        "# Task 7: Functions and error handling (20 minutes)\n",
        "Write a function that takes a list of numbers and returns their sum.\n",
        "Add error handling to make the function return an error message if any element of the list is not a number."
      ]
    },
    {
      "cell_type": "code",
      "execution_count": 10,
      "metadata": {
        "id": "k4N4MgLqefkx"
      },
      "outputs": [],
      "source": [
        "def function(my_list):\n",
        "  num = 0\n",
        "  try:\n",
        "    for el in my_list:\n",
        "      num += el\n",
        "    return num\n",
        "  except:\n",
        "    print(\"Looks like you did not enter an integer!\")\n"
      ]
    },
    {
      "cell_type": "code",
      "execution_count": 11,
      "metadata": {
        "colab": {
          "base_uri": "https://localhost:8080/"
        },
        "id": "BvH7PRNLXI1a",
        "outputId": "74ae1cc5-d0aa-4c99-9170-523d69b238fa"
      },
      "outputs": [
        {
          "name": "stdout",
          "output_type": "stream",
          "text": [
            "3\n"
          ]
        }
      ],
      "source": [
        "my_list1 = [1, 2]\n",
        "print(function(my_list1))"
      ]
    },
    {
      "cell_type": "code",
      "execution_count": 12,
      "metadata": {
        "id": "jzRCmjRMc6e9"
      },
      "outputs": [],
      "source": [
        "def funct(lst):\n",
        "  try:\n",
        "    return(sum(lst))\n",
        "  except TypeError:\n",
        "     print(\"Looks like you did not enter an integer!\")\n"
      ]
    },
    {
      "cell_type": "code",
      "execution_count": null,
      "metadata": {
        "colab": {
          "base_uri": "https://localhost:8080/"
        },
        "id": "DuVoYoW1dE4K",
        "outputId": "61f63865-7560-4c50-b66d-c5114072dad2"
      },
      "outputs": [
        {
          "name": "stdout",
          "output_type": "stream",
          "text": [
            "6\n"
          ]
        }
      ],
      "source": [
        "print(funct([1, 5]))"
      ]
    },
    {
      "cell_type": "markdown",
      "metadata": {
        "id": "w0gQz5QCef7N"
      },
      "source": [
        "# Task 8: List operations and lambda (20 minutes)\n",
        "Create a list containing numbers from 1 to 10.\n",
        "Use the map function with a lambda expression to create a new list where each number is squared.\n",
        "Use the filter function with a lambda expression to create a new list containing only even numbers."
      ]
    },
    {
      "cell_type": "code",
      "execution_count": 13,
      "metadata": {
        "colab": {
          "base_uri": "https://localhost:8080/"
        },
        "id": "MnphqQzIlzF1",
        "outputId": "279de238-bc37-4030-ec9f-a5320047996d"
      },
      "outputs": [
        {
          "name": "stdout",
          "output_type": "stream",
          "text": [
            "[1, 2, 3, 4, 5, 6, 7, 8, 9, 10]\n",
            "[1, 4, 9, 16, 25, 36, 49, 64, 81, 100]\n",
            "[4, 16, 36, 64, 100]\n"
          ]
        }
      ],
      "source": [
        "list_of_numbers = list(range(1,11))\n",
        "\n",
        "squared_numbers = list(map(lambda n: n ** 2, list_of_numbers))\n",
        "even_numbers = list(filter(lambda n: n % 2 == 0, squared_numbers))\n",
        "\n",
        "print(list_of_numbers)\n",
        "print(squared_numbers)\n",
        "print(even_numbers)"
      ]
    },
    {
      "cell_type": "code",
      "execution_count": null,
      "metadata": {
        "id": "bFGpKHGemW1N"
      },
      "outputs": [],
      "source": []
    },
    {
      "cell_type": "markdown",
      "metadata": {
        "id": "74ysMJsHeig0"
      },
      "source": [
        "# Task 9: Regular expressions (20 minutes)\n",
        "Write a regular expression pattern to find all words starting with the letter \"a\" in the string \"An apple a day keeps the doctor away\".\n",
        "\n",
        "Use re.search to check if the string contains the word \"doctor\".\n",
        "\n",
        "Use re.findall to find all words starting with the letter \"a\".\n",
        "\n",
        "Use re.sub to replace the word \"doctor\" with \"physician\"."
      ]
    },
    {
      "cell_type": "code",
      "execution_count": 14,
      "metadata": {
        "colab": {
          "base_uri": "https://localhost:8080/"
        },
        "id": "_7j2c9KbejiZ",
        "outputId": "3b7640d5-9844-4c2e-cdbb-960951fde6a1"
      },
      "outputs": [
        {
          "name": "stdout",
          "output_type": "stream",
          "text": [
            "Doctor\n",
            "['An', 'apple', 'a', 'away']\n",
            "An apple a day keeps the physician away\n"
          ]
        }
      ],
      "source": [
        "import re\n",
        "text = \"An apple a day keeps the doctor away\"\n",
        "pattern = r\"\\b[aA]\\w*\"\n",
        "\n",
        "if re.search(r\"\\bdoctor\\b\", text):\n",
        "  print(\"Doctor\")\n",
        "else:\n",
        "  print(\"no doctor\")\n",
        "\n",
        "print(re.findall(pattern, text))\n",
        "\n",
        "print(re.sub(r\"\\bdoctor\\b\", \"physician\", text))\n",
        "\n",
        "\n"
      ]
    },
    {
      "cell_type": "markdown",
      "metadata": {
        "id": "YXGy6UToej4F"
      },
      "source": [
        "# Task 10: Zip and list comprehension (15 minutes)\n",
        "Create two lists: names = [\"Alice\", \"Bob\", \"Charlie\"] and scores = [85, 92, 78].\n",
        "\n",
        "Use the zip function to combine these lists into a list of tuples.\n",
        "\n",
        "Use list comprehension to create a new list containing strings in the format \"Name: score\" for each element."
      ]
    },
    {
      "cell_type": "code",
      "execution_count": 15,
      "metadata": {
        "colab": {
          "base_uri": "https://localhost:8080/"
        },
        "id": "mcd5oa89elEc",
        "outputId": "653a9824-f749-404b-953b-670782af37b8"
      },
      "outputs": [
        {
          "name": "stdout",
          "output_type": "stream",
          "text": [
            "['Alice: 85', 'Bob: 92', 'Charlie: 78']\n"
          ]
        }
      ],
      "source": [
        " names = [\"Alice\", \"Bob\", \"Charlie\"]\n",
        " scores = [85, 92, 78]\n",
        "\n",
        " my_list = list(zip(names, scores))\n",
        "\n",
        " lst = [f\"{name}: {score}\" for name, score in my_list]\n",
        "\n",
        " print(lst)\n",
        "\n"
      ]
    },
    {
      "cell_type": "markdown",
      "metadata": {
        "id": "fWUy_xmxelUD"
      },
      "source": [
        "# Task 11: Functions and differences between return and print (10 minutes)\n",
        "Write a function that takes two numbers and returns their sum.\n",
        "Explain the differences between return and print using this function as an example."
      ]
    },
    {
      "cell_type": "code",
      "execution_count": 16,
      "metadata": {
        "id": "AqEESizsfH0m"
      },
      "outputs": [],
      "source": [
        "def sum(a, b):\n",
        "  return a + b"
      ]
    },
    {
      "cell_type": "code",
      "execution_count": 17,
      "metadata": {
        "colab": {
          "base_uri": "https://localhost:8080/"
        },
        "id": "tEuqzC1jwdC1",
        "outputId": "20c05cfa-a4b8-4264-8d11-e9214d00eeec"
      },
      "outputs": [
        {
          "data": {
            "text/plain": [
              "int"
            ]
          },
          "execution_count": 17,
          "metadata": {},
          "output_type": "execute_result"
        }
      ],
      "source": [
        "type(sum(1,2))"
      ]
    },
    {
      "cell_type": "code",
      "execution_count": 18,
      "metadata": {
        "id": "7dDvdX6ytfmb"
      },
      "outputs": [],
      "source": [
        "def sum2(c, d):\n",
        "  print(c + d)"
      ]
    },
    {
      "cell_type": "code",
      "execution_count": 19,
      "metadata": {
        "colab": {
          "base_uri": "https://localhost:8080/"
        },
        "id": "IMM32Mr6wirQ",
        "outputId": "670078fe-88e8-4c3f-fe33-d7bf8780bd05"
      },
      "outputs": [
        {
          "name": "stdout",
          "output_type": "stream",
          "text": [
            "3\n"
          ]
        },
        {
          "data": {
            "text/plain": [
              "NoneType"
            ]
          },
          "execution_count": 19,
          "metadata": {},
          "output_type": "execute_result"
        }
      ],
      "source": [
        "type(sum2(1,2))"
      ]
    }
  ],
  "metadata": {
    "colab": {
      "provenance": []
    },
    "kernelspec": {
      "display_name": "Python 3",
      "language": "python",
      "name": "python3"
    },
    "language_info": {
      "codemirror_mode": {
        "name": "ipython",
        "version": 3
      },
      "file_extension": ".py",
      "mimetype": "text/x-python",
      "name": "python",
      "nbconvert_exporter": "python",
      "pygments_lexer": "ipython3",
      "version": "3.6.6"
    }
  },
  "nbformat": 4,
  "nbformat_minor": 0
}
